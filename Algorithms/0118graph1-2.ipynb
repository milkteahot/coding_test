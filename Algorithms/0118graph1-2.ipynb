{
 "cells": [
  {
   "cell_type": "code",
   "execution_count": 1,
   "metadata": {},
   "outputs": [
    {
     "name": "stdout",
     "output_type": "stream",
     "text": [
      "6 4\n",
      "1 4\n",
      "2 3\n",
      "2 4\n",
      "5 6\n",
      "각 원소가 속한 집합: 111155\n",
      "112155"
     ]
    }
   ],
   "source": [
    "# 특정 원소가 속한 집합 찾기\n",
    "def find_parent(parent, x):\n",
    "    # 루트 노드가 아니라면 루트 노드를 찾을 때까지 재귀적으로 호출\n",
    "    if parent[x] != x:\n",
    "        return find_parent(parent, parent[x])\n",
    "    return x\n",
    "\n",
    "# 두 원소가 속한 집합 합치기\n",
    "def union_parent(parent, a, b):\n",
    "    a = find_parent(parent, a)\n",
    "    b = find_parent(parent, b)\n",
    "    if a < b:\n",
    "        parent[b] = a\n",
    "    else:\n",
    "        parent[a] = b\n",
    "\n",
    "# 노드의 개수와 간선(union 연산)의 개수 입력받기\n",
    "v, e = map(int, input().split())\n",
    "parent = [0] * (v+1) # 부모 테이블 초기화\n",
    "\n",
    "# 부모 테이블상에서, 부모를 자기 자신으로 초기화\n",
    "for i in range(1, v+1):\n",
    "    parent[i] = i\n",
    "\n",
    "# union 연산 각각 수행\n",
    "for i in range(e):\n",
    "    a, b = map(int, input().split())\n",
    "    union_parent(parent, a, b)\n",
    "\n",
    "# 각 원소가 속한 집합 출력\n",
    "print('각 원소가 속한 집합: ', end='')\n",
    "for i in range(1, v+1):\n",
    "    print(find_parent(parent, i), end='')\n",
    "\n",
    "print()\n",
    "\n",
    "# 부모 테이블 내용 출력\n",
    "print('부모 테이블:', end='')\n",
    "for i in range(1, v+1):\n",
    "    print(parent[i], end='')"
   ]
  },
  {
   "cell_type": "code",
   "execution_count": 2,
   "metadata": {},
   "outputs": [
    {
     "name": "stdout",
     "output_type": "stream",
     "text": [
      "6 4\n",
      "1 4\n",
      "2 3\n",
      "2 4\n",
      "5 6\n",
      "각 원소가 속한 집합: 111155\n",
      "부모 테이블:111155"
     ]
    }
   ],
   "source": [
    "# 특정 원소가 속한 집합 찾기\n",
    "def find_parent(parent, x):\n",
    "    # 루트 노드가 아니라면 루트 노드를 찾을 때까지 재귀적으로 호출\n",
    "    if parent[x] != x:\n",
    "        # 경로 압축\n",
    "        parent[x] = find_parent(parent, parent[x])\n",
    "    return parent[x]\n",
    "\n",
    "# 두 원소가 속한 집합 합치기\n",
    "def union_parent(parent, a, b):\n",
    "    a = find_parent(parent, a)\n",
    "    b = find_parent(parent, b)\n",
    "    if a < b:\n",
    "        parent[b] = a\n",
    "    else:\n",
    "        parent[a] = b\n",
    "\n",
    "# 노드의 개수와 간선(union 연산)의 개수 입력받기\n",
    "v, e = map(int, input().split())\n",
    "parent = [0] * (v+1) # 부모 테이블 초기화\n",
    "\n",
    "# 부모 테이블상에서, 부모를 자기 자신으로 초기화\n",
    "for i in range(1, v+1):\n",
    "    parent[i] = i\n",
    "\n",
    "# union 연산 각각 수행\n",
    "for i in range(e):\n",
    "    a, b = map(int, input().split())\n",
    "    union_parent(parent, a, b)\n",
    "\n",
    "# 각 원소가 속한 집합 출력\n",
    "print('각 원소가 속한 집합: ', end='')\n",
    "for i in range(1, v+1):\n",
    "    print(find_parent(parent, i), end='')\n",
    "\n",
    "print()\n",
    "\n",
    "# 부모 테이블 내용 출력\n",
    "print('부모 테이블:', end='')\n",
    "for i in range(1, v+1):\n",
    "    print(parent[i], end='')\n",
    "\n"
   ]
  },
  {
   "cell_type": "code",
   "execution_count": null,
   "metadata": {},
   "outputs": [],
   "source": []
  }
 ],
 "metadata": {
  "kernelspec": {
   "display_name": "Python 3",
   "language": "python",
   "name": "python3"
  },
  "language_info": {
   "codemirror_mode": {
    "name": "ipython",
    "version": 3
   },
   "file_extension": ".py",
   "mimetype": "text/x-python",
   "name": "python",
   "nbconvert_exporter": "python",
   "pygments_lexer": "ipython3",
   "version": "3.8.5"
  }
 },
 "nbformat": 4,
 "nbformat_minor": 4
}
